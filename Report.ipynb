{
 "cells": [
  {
   "cell_type": "code",
   "execution_count": 1,
   "metadata": {},
   "outputs": [],
   "source": [
    "import numpy as np\n",
    "import pandas as pd\n",
    "import matplotlib.pyplot as plt"
   ]
  },
  {
   "cell_type": "code",
   "execution_count": 2,
   "metadata": {},
   "outputs": [],
   "source": [
    "df = pd.DataFrame({'Country':['United States','China','Japan','Germany','India', 'Rest of the World'],'Nominal GDP':['21427700','14342903','5081770','3845630','2875142','40178396'],'Cultural Hotspots':['New York','Beijing','Tokyo','Berlin','New Delhi','-']})"
   ]
  },
  {
   "cell_type": "markdown",
   "metadata": {},
   "source": [
    "<H1>Top 5 Countries in terms of Nominal GDP </H1>"
   ]
  },
  {
   "cell_type": "code",
   "execution_count": 3,
   "metadata": {},
   "outputs": [
    {
     "data": {
      "text/html": [
       "<div>\n",
       "<style scoped>\n",
       "    .dataframe tbody tr th:only-of-type {\n",
       "        vertical-align: middle;\n",
       "    }\n",
       "\n",
       "    .dataframe tbody tr th {\n",
       "        vertical-align: top;\n",
       "    }\n",
       "\n",
       "    .dataframe thead th {\n",
       "        text-align: right;\n",
       "    }\n",
       "</style>\n",
       "<table border=\"1\" class=\"dataframe\">\n",
       "  <thead>\n",
       "    <tr style=\"text-align: right;\">\n",
       "      <th></th>\n",
       "      <th>Country</th>\n",
       "      <th>Nominal GDP</th>\n",
       "      <th>Cultural Hotspots</th>\n",
       "    </tr>\n",
       "  </thead>\n",
       "  <tbody>\n",
       "    <tr>\n",
       "      <th>0</th>\n",
       "      <td>United States</td>\n",
       "      <td>21427700</td>\n",
       "      <td>New York</td>\n",
       "    </tr>\n",
       "    <tr>\n",
       "      <th>1</th>\n",
       "      <td>China</td>\n",
       "      <td>14342903</td>\n",
       "      <td>Beijing</td>\n",
       "    </tr>\n",
       "    <tr>\n",
       "      <th>2</th>\n",
       "      <td>Japan</td>\n",
       "      <td>5081770</td>\n",
       "      <td>Tokyo</td>\n",
       "    </tr>\n",
       "    <tr>\n",
       "      <th>3</th>\n",
       "      <td>Germany</td>\n",
       "      <td>3845630</td>\n",
       "      <td>Berlin</td>\n",
       "    </tr>\n",
       "    <tr>\n",
       "      <th>4</th>\n",
       "      <td>India</td>\n",
       "      <td>2875142</td>\n",
       "      <td>New Delhi</td>\n",
       "    </tr>\n",
       "    <tr>\n",
       "      <th>5</th>\n",
       "      <td>Rest of the World</td>\n",
       "      <td>40178396</td>\n",
       "      <td>-</td>\n",
       "    </tr>\n",
       "  </tbody>\n",
       "</table>\n",
       "</div>"
      ],
      "text/plain": [
       "             Country Nominal GDP Cultural Hotspots\n",
       "0      United States    21427700          New York\n",
       "1              China    14342903           Beijing\n",
       "2              Japan     5081770             Tokyo\n",
       "3            Germany     3845630            Berlin\n",
       "4              India     2875142         New Delhi\n",
       "5  Rest of the World    40178396                 -"
      ]
     },
     "execution_count": 3,
     "metadata": {},
     "output_type": "execute_result"
    }
   ],
   "source": [
    "df"
   ]
  },
  {
   "cell_type": "code",
   "execution_count": 4,
   "metadata": {},
   "outputs": [
    {
     "data": {
      "image/png": "[encoded data removed]",
      "text/plain": [
       "<Figure size 1440x576 with 1 Axes>"
      ]
     },
     "metadata": {
      "needs_background": "light"
     },
     "output_type": "display_data"
    }
   ],
   "source": [
    "import seaborn as sns\n",
    "plt.figure(figsize=(20,8))\n",
    "sns.barplot(x=df['Country'], y=df['Nominal GDP'])\n",
    "plt.tick_params(labelsize=14)\n",
    "\n",
    "plt.show()"
   ]
  },
  {
   "cell_type": "markdown",
   "metadata": {},
   "source": [
    "<H1>Problem Statement</H1>\n",
    "<H2>Comparative Analysis amongst the cultural hotspots of the top 5 largest Economies of the World in order to determine the composition of these hotspots in terms of attraction venues. Such a study will help identify similarities as well as differences amongst these hotspots. The study can also be used as a project appraisal tool inorder to identify key businesses prevelant in neighborhoods and if infered properly can help bridge demand-supply of businesses in neighborhoods. </H2>"
   ]
  },
  {
   "cell_type": "markdown",
   "metadata": {},
   "source": [
    "<H1>Data</H1>\n",
    "<H3>Data is to be procedured from Foursquare's Developer API and manipulated with generic Python libraries like Numpy and Pandas and visualised using Matplotlib and Folium. Unsupervised Learning Algorithm is to be used for clustering the neighborhoods.</H3>"
   ]
  },
  {
   "cell_type": "markdown",
   "metadata": {},
   "source": [
    "<H1>Methodology</H1>"
   ]
  },
  {
   "cell_type": "markdown",
   "metadata": {},
   "source": [
    "<H3>The analysis is to be started by scraping lists of neighborhoods and their corresponding zip codes from the internet using Beautiful Soup or any other tool/source. For our purpose, the data has been scraped and saved into CSV files for better ease in creating Data Frames using Pandas. Once the data frames have been created, the zip codes were geocoded using Google's Geocoder inorder to fetch their latitude and longitude details. The details were subsequently appended to the respective Dataframes. </H3>"
   ]
  },
  {
   "cell_type": "markdown",
   "metadata": {},
   "source": [
    "<H3>Next, the geocoded information is used to procure venue details using Foursquare's Developer API and the returned results are saved and grouped accordingly. Further, the frequency of venue occurence is obtained and sorted inorder to obtain a list of venues ordered in the frequency of presence of particular category of businesses/establishments. The regions can be visualised using Folium and Matplotlib to better apprehend the positionings. </H3>"
   ]
  },
  {
   "cell_type": "markdown",
   "metadata": {},
   "source": [
    "<H3>As a step further, the dataset can be trained using unsupervised learning algorithms to form clusters so that different zones are obtained which are seemingly similar according to the learning algorithm. The inference to the cluster formations are left best to the analyst as the methodology used to train the dataset is unsupervised. </H3>"
   ]
  },
  {
   "cell_type": "markdown",
   "metadata": {},
   "source": [
    "<H1>Results</H1>"
   ]
  },
  {
   "cell_type": "markdown",
   "metadata": {},
   "source": [
    "<H3>The results obtained clearly shows the difference in business/establishments in the leading cultural hotspots of the biggest economies of the World </H3>"
   ]
  },
  {
   "cell_type": "markdown",
   "metadata": {},
   "source": [
    "<H3>In New York, United States; the top 10 most popular establishments remains dominated by Food Serving businesses.  </H3>"
   ]
  },
  {
   "cell_type": "markdown",
   "metadata": {},
   "source": [
    "<H3>In Beijing, China; the top 10 most popular spots shows an attempt to rope in tourists as the most popular venues feature Hotel establishments, Historical Sites and Museums.  </H3>"
   ]
  },
  {
   "cell_type": "markdown",
   "metadata": {},
   "source": [
    "<H3>In Tokyo, Japan the top popular venues is dominated by Food serving establishments likes Restaurants (of different cuisines), Cafes etc.   </H3>"
   ]
  },
  {
   "cell_type": "markdown",
   "metadata": {},
   "source": [
    "<H3>Berlin, Germany neighborhoods feature a mix of different establishments as there is no clear pattern visible showing wide range of businesses flourishing in the region. Such a trend clearly indicates no dependancy on any particular business.  </H3>"
   ]
  },
  {
   "cell_type": "markdown",
   "metadata": {},
   "source": [
    "<H3>New Delhi, India again shows a trend of dependancy on food serving establishments. However, the categories exhibit a difference in the sense that unlike other regions, most of the food serving establishments in this region particularly serves snacks or other fast foods. </H3>"
   ]
  },
  {
   "cell_type": "markdown",
   "metadata": {},
   "source": [
    "<H1>Discussion</H1>"
   ]
  },
  {
   "cell_type": "markdown",
   "metadata": {},
   "source": [
    "<H3>The most prevelant form of business around the cultural hotspots of the World remains Food Serving Establishments. An analysis as performed can help in appraisal of projects as using the API and geocoded information, locally established businesses' data can be produced leading to better understanding of the business demographics. Such datasets can help in identification of projects which might be received well as well as the location where it's establishment is likely to be most fruitful.</H3>"
   ]
  },
  {
   "cell_type": "markdown",
   "metadata": {},
   "source": [
    "<H1>Conclusion</H1>"
   ]
  },
  {
   "cell_type": "markdown",
   "metadata": {},
   "source": [
    "<H3>As the businesses from region to region vary, the trends across the leading cultural hotspots of the world remain similar to some extend. On the other hand, the availability of powerful data procuring and manipulating tools have aided decision making immensely. </H3>"
   ]
  },
  {
   "cell_type": "code",
   "execution_count": null,
   "metadata": {},
   "outputs": [],
   "source": []
  }
 ],
 "metadata": {
  "kernelspec": {
   "display_name": "Python 3",
   "language": "python",
   "name": "python3"
  },
  "language_info": {
   "codemirror_mode": {
    "name": "ipython",
    "version": 3
   },
   "file_extension": ".py",
   "mimetype": "text/x-python",
   "name": "python",
   "nbconvert_exporter": "python",
   "pygments_lexer": "ipython3",
   "version": "3.7.6"
  }
 },
 "nbformat": 4,
 "nbformat_minor": 4
}
