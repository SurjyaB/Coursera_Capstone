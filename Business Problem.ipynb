{
 "cells": [
  {
   "cell_type": "code",
   "execution_count": null,
   "metadata": {},
   "outputs": [],
   "source": [
    "import numpy as np\n",
    "import pandas as pd\n",
    "import matplotlib.pyplot as plt"
   ]
  },
  {
   "cell_type": "code",
   "execution_count": null,
   "metadata": {},
   "outputs": [],
   "source": [
    "df = pd.DataFrame({'Country':['United States','China','Japan','Germany','India', 'Rest of the World'],'Nominal GDP':['21427700','14342903','5081770','3845630','2875142','40178396'],'Cultural Hotspots':['New York','Beijing','Tokyo','Berlin','New Delhi','-']})"
   ]
  },
  {
   "cell_type": "markdown",
   "metadata": {},
   "source": [
    "<H1>Top 5 Countries in terms of Nominal GDP </H1>"
   ]
  },
  {
   "cell_type": "code",
   "execution_count": null,
   "metadata": {},
   "outputs": [],
   "source": [
    "df"
   ]
  },
  {
   "cell_type": "code",
   "execution_count": null,
   "metadata": {},
   "outputs": [],
   "source": [
    "import seaborn as sns\n",
    "plt.figure(figsize=(20,8))\n",
    "sns.barplot(x=df['Country'], y=df['Nominal GDP'])\n",
    "plt.tick_params(labelsize=14)\n",
    "\n",
    "plt.show()"
   ]
  },
  {
   "cell_type": "markdown",
   "metadata": {},
   "source": [
    "<H1>Problem Statement</H1>\n",
    "<H2>Comparative Analysis amongst the cultural hotspots of the top 5 largest Economies of the World in order to determine the composition of these hotspots in terms of attraction venues. Such a study will help identify similarities as well as differences amongst these hotspots. The study can also be used as a project appraisal tool inorder to identify key businesses prevelant in neighborhoods and if infered properly can help bridge demand-supply of businesses in neighborhoods. </H2>"
   ]
  },
  {
   "cell_type": "markdown",
   "metadata": {},
   "source": [
    "<H1>Data</H1>\n",
    "<H3>Data is to be procedured from Foursquare's Developer API and manipulated with generic Python libraries like Numpy and Pandas and visualised using Matplotlib and Folium. Unsupervised Learning Algorithm is to be used for clustering the neighborhoods.</H3>"
   ]
  },
  {
   "cell_type": "code",
   "execution_count": null,
   "metadata": {},
   "outputs": [],
   "source": []
  }
 ],
 "metadata": {
  "kernelspec": {
   "display_name": "Python 3",
   "language": "python",
   "name": "python3"
  },
  "language_info": {
   "codemirror_mode": {
    "name": "ipython",
    "version": 3
   },
   "file_extension": ".py",
   "mimetype": "text/x-python",
   "name": "python",
   "nbconvert_exporter": "python",
   "pygments_lexer": "ipython3",
   "version": "3.7.6"
  }
 },
 "nbformat": 4,
 "nbformat_minor": 4
}
